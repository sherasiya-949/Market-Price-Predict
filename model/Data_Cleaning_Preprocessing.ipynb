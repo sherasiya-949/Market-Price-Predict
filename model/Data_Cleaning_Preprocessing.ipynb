{
 "cells": [
  {
   "cell_type": "markdown",
   "id": "7934a6ad",
   "metadata": {},
   "source": [
    "# Data Cleaning and Preprocessing"
   ]
  },
  {
   "cell_type": "code",
   "execution_count": null,
   "id": "9e6ae073",
   "metadata": {},
   "outputs": [],
   "source": [
    "\n",
    "import pandas as pd\n",
    "\n",
    "# Load the dataset\n",
    "file_path = \"Price_Agriculture_commodities_Week.csv\"\n",
    "df = pd.read_csv(file_path)\n",
    "\n",
    "# Convert Arrival_Date to datetime format\n",
    "df['Arrival_Date'] = pd.to_datetime(df['Arrival_Date'], errors='coerce')\n",
    "\n",
    "# Remove rows with invalid dates (if any)\n",
    "df.dropna(subset=['Arrival_Date'], inplace=True)\n",
    "\n",
    "# Remove duplicates if any\n",
    "df.drop_duplicates(inplace=True)\n",
    "\n",
    "# Confirm missing values after fixing\n",
    "missing_values = df.isnull().sum()\n",
    "\n",
    "# Final dataset info after cleaning\n",
    "print(df.info())\n",
    "print(missing_values)\n"
   ]
  }
 ],
 "metadata": {},
 "nbformat": 4,
 "nbformat_minor": 5
}
