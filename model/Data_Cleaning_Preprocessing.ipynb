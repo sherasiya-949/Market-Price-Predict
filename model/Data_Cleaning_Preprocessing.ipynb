{
 "cells": [
  {
   "cell_type": "markdown",
   "id": "7934a6ad",
   "metadata": {},
   "source": [
    "# Data Cleaning and Preprocessing"
   ]
  },
  {
   "cell_type": "code",
   "execution_count": 1,
   "id": "9e6ae073",
   "metadata": {},
   "outputs": [
    {
     "name": "stdout",
     "output_type": "stream",
     "text": [
      "<class 'pandas.core.frame.DataFrame'>\n",
      "Index: 14600 entries, 0 to 22682\n",
      "Data columns (total 10 columns):\n",
      " #   Column        Non-Null Count  Dtype         \n",
      "---  ------        --------------  -----         \n",
      " 0   State         14600 non-null  object        \n",
      " 1   District      14600 non-null  object        \n",
      " 2   Market        14600 non-null  object        \n",
      " 3   Commodity     14600 non-null  object        \n",
      " 4   Variety       14600 non-null  object        \n",
      " 5   Grade         14600 non-null  object        \n",
      " 6   Arrival_Date  14600 non-null  datetime64[ns]\n",
      " 7   Min Price     14600 non-null  float64       \n",
      " 8   Max Price     14600 non-null  float64       \n",
      " 9   Modal Price   14600 non-null  float64       \n",
      "dtypes: datetime64[ns](1), float64(3), object(6)\n",
      "memory usage: 1.2+ MB\n",
      "None\n",
      "State           0\n",
      "District        0\n",
      "Market          0\n",
      "Commodity       0\n",
      "Variety         0\n",
      "Grade           0\n",
      "Arrival_Date    0\n",
      "Min Price       0\n",
      "Max Price       0\n",
      "Modal Price     0\n",
      "dtype: int64\n"
     ]
    },
    {
     "name": "stderr",
     "output_type": "stream",
     "text": [
      "C:\\Users\\admin\\AppData\\Local\\Temp\\ipykernel_10088\\2067030651.py:8: UserWarning: Parsing dates in %d-%m-%Y format when dayfirst=False (the default) was specified. Pass `dayfirst=True` or specify a format to silence this warning.\n",
      "  df['Arrival_Date'] = pd.to_datetime(df['Arrival_Date'], errors='coerce')\n"
     ]
    }
   ],
   "source": [
    "\n",
    "import pandas as pd\n",
    "\n",
    "# Load the dataset\n",
    "file_path = \"Price_Agriculture_commodities_Week.csv\"\n",
    "df = pd.read_csv(file_path)\n",
    "\n",
    "# Convert Arrival_Date to datetime format\n",
    "df['Arrival_Date'] = pd.to_datetime(df['Arrival_Date'], errors='coerce')\n",
    "\n",
    "# Remove rows with invalid dates (if any)\n",
    "df.dropna(subset=['Arrival_Date'], inplace=True)\n",
    "\n",
    "# Remove duplicates if any\n",
    "df.drop_duplicates(inplace=True)\n",
    "\n",
    "# Confirm missing values after fixing\n",
    "missing_values = df.isnull().sum()\n",
    "\n",
    "# Final dataset info after cleaning\n",
    "print(df.info())\n",
    "print(missing_values)\n"
   ]
  }
 ],
 "metadata": {
  "kernelspec": {
   "display_name": "Python 3",
   "language": "python",
   "name": "python3"
  },
  "language_info": {
   "codemirror_mode": {
    "name": "ipython",
    "version": 3
   },
   "file_extension": ".py",
   "mimetype": "text/x-python",
   "name": "python",
   "nbconvert_exporter": "python",
   "pygments_lexer": "ipython3",
   "version": "3.12.5"
  }
 },
 "nbformat": 4,
 "nbformat_minor": 5
}
